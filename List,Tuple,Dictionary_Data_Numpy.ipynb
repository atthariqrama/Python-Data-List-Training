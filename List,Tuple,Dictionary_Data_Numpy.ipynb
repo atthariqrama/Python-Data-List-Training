{
  "nbformat": 4,
  "nbformat_minor": 0,
  "metadata": {
    "colab": {
      "name": "List,Tuple,Dictionary Data_Numpy.ipynb",
      "provenance": [],
      "collapsed_sections": []
    },
    "kernelspec": {
      "name": "python3",
      "display_name": "Python 3"
    },
    "language_info": {
      "name": "python"
    }
  },
  "cells": [
    {
      "cell_type": "markdown",
      "source": [
        "Lists are used to store multiple items in a single variable."
      ],
      "metadata": {
        "id": "Epmk4UteFX07"
      }
    },
    {
      "cell_type": "code",
      "execution_count": null,
      "metadata": {
        "id": "hBDZ56bYEnfZ"
      },
      "outputs": [],
      "source": [
        "#example\n",
        "list = [1,\"two\",3.0]"
      ]
    },
    {
      "cell_type": "code",
      "source": [
        "# extract element\n",
        "list[0]"
      ],
      "metadata": {
        "colab": {
          "base_uri": "https://localhost:8080/",
          "height": 35
        },
        "id": "htXRlvobFoN9",
        "outputId": "89aef75c-0a71-47c2-8544-75f38afe817f"
      },
      "execution_count": null,
      "outputs": [
        {
          "output_type": "execute_result",
          "data": {
            "text/plain": [
              "'1'"
            ],
            "application/vnd.google.colaboratory.intrinsic+json": {
              "type": "string"
            }
          },
          "metadata": {},
          "execution_count": 9
        }
      ]
    },
    {
      "cell_type": "code",
      "source": [
        "type(list[0])"
      ],
      "metadata": {
        "colab": {
          "base_uri": "https://localhost:8080/"
        },
        "id": "-7CR9YSTw8cw",
        "outputId": "c1d0ce04-781b-4b4f-9e7a-e7c769ffc560"
      },
      "execution_count": null,
      "outputs": [
        {
          "output_type": "execute_result",
          "data": {
            "text/plain": [
              "str"
            ]
          },
          "metadata": {},
          "execution_count": 10
        }
      ]
    },
    {
      "cell_type": "code",
      "source": [
        "list[-2]"
      ],
      "metadata": {
        "colab": {
          "base_uri": "https://localhost:8080/",
          "height": 35
        },
        "id": "RWi09Teeye4D",
        "outputId": "b4169c4d-64f9-4611-c682-06cac8717a9a"
      },
      "execution_count": null,
      "outputs": [
        {
          "output_type": "execute_result",
          "data": {
            "text/plain": [
              "'two'"
            ],
            "application/vnd.google.colaboratory.intrinsic+json": {
              "type": "string"
            }
          },
          "metadata": {},
          "execution_count": 8
        }
      ]
    },
    {
      "cell_type": "code",
      "source": [
        "type(list[2])"
      ],
      "metadata": {
        "colab": {
          "base_uri": "https://localhost:8080/"
        },
        "id": "kislDVU7ynBl",
        "outputId": "43e00ae2-125d-462d-fc6f-2c7e129a5e59"
      },
      "execution_count": null,
      "outputs": [
        {
          "output_type": "execute_result",
          "data": {
            "text/plain": [
              "str"
            ]
          },
          "metadata": {},
          "execution_count": 11
        }
      ]
    },
    {
      "cell_type": "code",
      "source": [
        "# extract range\n",
        "list[0:3]"
      ],
      "metadata": {
        "colab": {
          "base_uri": "https://localhost:8080/"
        },
        "id": "Jgk-CWzOxJjl",
        "outputId": "abad469b-a0bf-4875-ca7d-b76f907389db"
      },
      "execution_count": null,
      "outputs": [
        {
          "output_type": "execute_result",
          "data": {
            "text/plain": [
              "['one', 'two', 'three']"
            ]
          },
          "metadata": {},
          "execution_count": 6
        }
      ]
    },
    {
      "cell_type": "code",
      "source": [
        "list[ :3]"
      ],
      "metadata": {
        "colab": {
          "base_uri": "https://localhost:8080/"
        },
        "id": "Y9Rdfv6Gy0mc",
        "outputId": "43c44745-1ab0-4274-c45a-a083a8da381f"
      },
      "execution_count": null,
      "outputs": [
        {
          "output_type": "execute_result",
          "data": {
            "text/plain": [
              "['1', 'two', '3.0']"
            ]
          },
          "metadata": {},
          "execution_count": 14
        }
      ]
    },
    {
      "cell_type": "code",
      "source": [
        "list[0:3:2]"
      ],
      "metadata": {
        "colab": {
          "base_uri": "https://localhost:8080/"
        },
        "id": "VhLaog5Uxbs6",
        "outputId": "2c1b33e2-d6df-467d-e970-c5a97d8c3f99"
      },
      "execution_count": null,
      "outputs": [
        {
          "output_type": "execute_result",
          "data": {
            "text/plain": [
              "['1', '3.0']"
            ]
          },
          "metadata": {},
          "execution_count": 12
        }
      ]
    },
    {
      "cell_type": "code",
      "source": [
        "#len -> Return the number of items in a list\n",
        "len(list)"
      ],
      "metadata": {
        "colab": {
          "base_uri": "https://localhost:8080/"
        },
        "id": "K-SvLnh30nTh",
        "outputId": "687a1f29-7213-4d12-b327-2f5b9508f25f"
      },
      "execution_count": null,
      "outputs": [
        {
          "output_type": "execute_result",
          "data": {
            "text/plain": [
              "4"
            ]
          },
          "metadata": {},
          "execution_count": 27
        }
      ]
    },
    {
      "cell_type": "code",
      "source": [
        "#del -> delete an element in list\n",
        "del list[0]\n",
        "print(list)"
      ],
      "metadata": {
        "colab": {
          "base_uri": "https://localhost:8080/"
        },
        "id": "YdM8DCzp00G0",
        "outputId": "7126062c-d9cf-4a23-82e3-155b94f9fb36"
      },
      "execution_count": null,
      "outputs": [
        {
          "output_type": "stream",
          "name": "stdout",
          "text": [
            "['two', 3.0]\n"
          ]
        }
      ]
    },
    {
      "cell_type": "code",
      "source": [
        "#append -> To add an item to the end of the list\n",
        "list.append(\"four\")\n",
        "print(list)"
      ],
      "metadata": {
        "colab": {
          "base_uri": "https://localhost:8080/"
        },
        "id": "8R4WnzbT0VQG",
        "outputId": "ebc2f010-7f43-4be7-8db2-ee5f7d9b8c20"
      },
      "execution_count": null,
      "outputs": [
        {
          "output_type": "stream",
          "name": "stdout",
          "text": [
            "['two', 3.0, 'four']\n"
          ]
        }
      ]
    },
    {
      "cell_type": "code",
      "source": [
        "#extend ->  merges another list L to the end\n",
        "list.extend([5,\"six\",7.0])\n",
        "print(list)"
      ],
      "metadata": {
        "colab": {
          "base_uri": "https://localhost:8080/"
        },
        "id": "x3336zIg1MJe",
        "outputId": "899bb920-9a6e-40ec-9efb-729c30058169"
      },
      "execution_count": null,
      "outputs": [
        {
          "output_type": "stream",
          "name": "stdout",
          "text": [
            "['two', 3.0, 'four', 5, 'six', 7.0]\n"
          ]
        }
      ]
    },
    {
      "cell_type": "code",
      "source": [
        "list2 = [\"eight\",9.0,10]\n",
        "list.extend(list2)\n",
        "print(list)"
      ],
      "metadata": {
        "colab": {
          "base_uri": "https://localhost:8080/"
        },
        "id": "QWd5TE-w3KXL",
        "outputId": "df3735af-2b82-4b28-d320-7845b11df1b6"
      },
      "execution_count": null,
      "outputs": [
        {
          "output_type": "stream",
          "name": "stdout",
          "text": [
            "['two', 3.0, 'four', 5, 'six', 7.0, 'eight', 9.0, 10]\n"
          ]
        }
      ]
    },
    {
      "cell_type": "code",
      "source": [
        "#insert -> inserts the specified value at the specified position.\n",
        "list.insert(3,3.5)\n",
        "print(list)"
      ],
      "metadata": {
        "colab": {
          "base_uri": "https://localhost:8080/"
        },
        "id": "aKTkz59D32xw",
        "outputId": "fc2ff066-db51-4d12-b5bc-d8a732ef5753"
      },
      "execution_count": null,
      "outputs": [
        {
          "output_type": "stream",
          "name": "stdout",
          "text": [
            "['two', 3.0, 'four', 3.5, 5, 'six', 7.0, 'eight', 9.0, 10]\n"
          ]
        }
      ]
    },
    {
      "cell_type": "code",
      "source": [
        "#remove -> removes the specified element in list\n",
        "list.remove(10)\n",
        "print(list)"
      ],
      "metadata": {
        "colab": {
          "base_uri": "https://localhost:8080/"
        },
        "id": "eeCLg2gz4mAS",
        "outputId": "06325489-591d-44c8-9b8a-1a95d8da3243"
      },
      "execution_count": null,
      "outputs": [
        {
          "output_type": "stream",
          "name": "stdout",
          "text": [
            "['two', 3.0, 'four', 3.5, 5, 'six', 7.0, 'eight', 9.0]\n"
          ]
        }
      ]
    },
    {
      "cell_type": "code",
      "source": [
        "#pop -> removes the specified index in list\n",
        "list.pop(0)\n",
        "print(list)"
      ],
      "metadata": {
        "colab": {
          "base_uri": "https://localhost:8080/"
        },
        "id": "hrvf1uIv6b5D",
        "outputId": "714cc254-a4cd-4565-d653-6a99c2999add"
      },
      "execution_count": null,
      "outputs": [
        {
          "output_type": "stream",
          "name": "stdout",
          "text": [
            "[3.0, 'four', 3.5, 5, 'six', 7.0, 'eight', 9.0]\n"
          ]
        }
      ]
    },
    {
      "cell_type": "code",
      "source": [
        "#index -> return the first index of the value in the list\n",
        "list.index(3.0)"
      ],
      "metadata": {
        "colab": {
          "base_uri": "https://localhost:8080/"
        },
        "id": "GA_QbZ9-6zPb",
        "outputId": "6aafc4c3-e637-4615-e68e-8e03ce6ab086"
      },
      "execution_count": null,
      "outputs": [
        {
          "output_type": "execute_result",
          "data": {
            "text/plain": [
              "0"
            ]
          },
          "metadata": {},
          "execution_count": 63
        }
      ]
    },
    {
      "cell_type": "code",
      "source": [
        "#count -> returns the number of elements with the specified value in list\n",
        "number = [2,2,2,2,3,3,3,1,1,1,1,1,4,4,5]\n",
        "number.count(4)"
      ],
      "metadata": {
        "colab": {
          "base_uri": "https://localhost:8080/"
        },
        "id": "6XSs8Dcn7dq8",
        "outputId": "85b9da96-2165-4da5-cd01-865f8956e864"
      },
      "execution_count": null,
      "outputs": [
        {
          "output_type": "execute_result",
          "data": {
            "text/plain": [
              "2"
            ]
          },
          "metadata": {},
          "execution_count": 74
        }
      ]
    },
    {
      "cell_type": "code",
      "source": [
        "#sort -> sorts the list ascending by default in list\n",
        "number.sort()\n",
        "print(number)"
      ],
      "metadata": {
        "colab": {
          "base_uri": "https://localhost:8080/"
        },
        "id": "bZ7OTiMn8fZ8",
        "outputId": "e89dcd2f-c70e-45b4-ed0c-d12e5b77ae61"
      },
      "execution_count": null,
      "outputs": [
        {
          "output_type": "stream",
          "name": "stdout",
          "text": [
            "[1, 1, 1, 1, 1, 2, 2, 2, 2, 3, 3, 3, 4, 4, 5]\n"
          ]
        }
      ]
    },
    {
      "cell_type": "code",
      "source": [
        "#reverse -> reverses the sorting order of the elements in list\n",
        "number.reverse()\n",
        "print(number)"
      ],
      "metadata": {
        "colab": {
          "base_uri": "https://localhost:8080/"
        },
        "id": "HzN3D8LU9_6q",
        "outputId": "73456261-6556-463b-c483-38eaa9849bd1"
      },
      "execution_count": null,
      "outputs": [
        {
          "output_type": "stream",
          "name": "stdout",
          "text": [
            "[5, 4, 4, 3, 3, 3, 2, 2, 2, 2, 1, 1, 1, 1, 1]\n"
          ]
        }
      ]
    },
    {
      "cell_type": "code",
      "source": [
        "list = [1,\"two\",3.0]"
      ],
      "metadata": {
        "id": "-1PBoHk8NK90"
      },
      "execution_count": null,
      "outputs": []
    },
    {
      "cell_type": "code",
      "source": [
        "#slice -> returns a slice object in list\n",
        "print(list[0])\n",
        "print(list[1])\n",
        "print(list[2])"
      ],
      "metadata": {
        "colab": {
          "base_uri": "https://localhost:8080/"
        },
        "id": "qbAsx01i-0e_",
        "outputId": "5fab2b1c-46cc-4104-c674-53e89f57b956"
      },
      "execution_count": null,
      "outputs": [
        {
          "output_type": "stream",
          "name": "stdout",
          "text": [
            "1\n",
            "two\n",
            "3.0\n"
          ]
        }
      ]
    },
    {
      "cell_type": "code",
      "source": [
        "Month = {\"March\",\"June\",\"May\",\"August\",\"September\",\"October\",\"December\",\"February\",\"January\",\"March\",\"April\",\"May\",\"January\",\"July\",\"June\",\"July\",\"August\",\"September\"}\n",
        "\n",
        "#Create a Set"
      ],
      "metadata": {
        "id": "3Y2Ci3HnC6iP"
      },
      "execution_count": null,
      "outputs": []
    },
    {
      "cell_type": "code",
      "source": [
        "print(Month)\n",
        "\n",
        "#Accesing Set Values"
      ],
      "metadata": {
        "colab": {
          "base_uri": "https://localhost:8080/"
        },
        "id": "b0TNYpImDbiZ",
        "outputId": "6a7db2c9-5a7b-4ad7-8bad-930a08d7353c"
      },
      "execution_count": null,
      "outputs": [
        {
          "output_type": "stream",
          "name": "stdout",
          "text": [
            "{'July', 'April', 'October', 'March', 'August', 'May', 'January', 'September', 'June', 'December', 'February'}\n"
          ]
        }
      ]
    },
    {
      "cell_type": "code",
      "source": [
        "type(Month)\n",
        "\n",
        "#Check Data Type"
      ],
      "metadata": {
        "colab": {
          "base_uri": "https://localhost:8080/"
        },
        "id": "Dz5lUegFDg8J",
        "outputId": "573d5e61-7280-498d-ac36-5c3cb7752513"
      },
      "execution_count": null,
      "outputs": [
        {
          "output_type": "execute_result",
          "data": {
            "text/plain": [
              "set"
            ]
          },
          "metadata": {},
          "execution_count": 3
        }
      ]
    },
    {
      "cell_type": "code",
      "source": [
        "Data = (2022,\"Universitas Indonesia\",\"march\")\n",
        "\n",
        "#Create a Tuple"
      ],
      "metadata": {
        "id": "PmGCWep_Djte"
      },
      "execution_count": null,
      "outputs": []
    },
    {
      "cell_type": "code",
      "source": [
        "print(Data[1])\n",
        "\n",
        "#Accessing Tuple values"
      ],
      "metadata": {
        "colab": {
          "base_uri": "https://localhost:8080/"
        },
        "id": "jvz74Dl7DpCU",
        "outputId": "231e8d2b-8b2d-489c-ac62-33e5eeccfa79"
      },
      "execution_count": null,
      "outputs": [
        {
          "output_type": "stream",
          "name": "stdout",
          "text": [
            "Universitas Indonesia\n"
          ]
        }
      ]
    },
    {
      "cell_type": "code",
      "source": [
        "Data_Mahasiswa = {\"NIM\": \"46136434\",\"Nama Mahasiswa\": \"Donny Tambunan\",\"Angkatan\": 2019, \"IPK\":3.51}\n",
        "\n",
        "#Create a Dictionary"
      ],
      "metadata": {
        "id": "Td0vru0fDpLs"
      },
      "execution_count": null,
      "outputs": []
    },
    {
      "cell_type": "code",
      "source": [
        "print(Data_Mahasiswa)\n",
        "\n",
        "#Accessing Dictionary Values"
      ],
      "metadata": {
        "colab": {
          "base_uri": "https://localhost:8080/"
        },
        "id": "g4VWfbV7Dpl2",
        "outputId": "70abc7d8-8bd4-436b-8a0b-bd9dbcf4d8db"
      },
      "execution_count": null,
      "outputs": [
        {
          "output_type": "stream",
          "name": "stdout",
          "text": [
            "{'NIM': '46136434', 'Nama Mahasiswa': 'Donny Tambunan', 'Angkatan': 2019, 'IPK': 3.51}\n"
          ]
        }
      ]
    },
    {
      "cell_type": "code",
      "source": [
        "Data_Mahasiswa[\"NIM\"]"
      ],
      "metadata": {
        "colab": {
          "base_uri": "https://localhost:8080/",
          "height": 36
        },
        "id": "Ic7UDIr5D0HL",
        "outputId": "e79e68d0-9b25-4ad7-a755-f6f681f02541"
      },
      "execution_count": null,
      "outputs": [
        {
          "output_type": "execute_result",
          "data": {
            "text/plain": [
              "'46136434'"
            ],
            "application/vnd.google.colaboratory.intrinsic+json": {
              "type": "string"
            }
          },
          "metadata": {},
          "execution_count": 8
        }
      ]
    },
    {
      "cell_type": "code",
      "source": [
        "type(Data_Mahasiswa)"
      ],
      "metadata": {
        "colab": {
          "base_uri": "https://localhost:8080/"
        },
        "id": "ITVnsc6bD0W5",
        "outputId": "c9330449-d6b0-4fc6-87aa-76c8ac3541f0"
      },
      "execution_count": null,
      "outputs": [
        {
          "output_type": "execute_result",
          "data": {
            "text/plain": [
              "dict"
            ]
          },
          "metadata": {},
          "execution_count": 9
        }
      ]
    },
    {
      "cell_type": "code",
      "source": [
        "Data_Mahasiswa[\"Nama Mahasiswa\"]"
      ],
      "metadata": {
        "colab": {
          "base_uri": "https://localhost:8080/",
          "height": 36
        },
        "id": "Qw1cC_acD-xd",
        "outputId": "58863f77-730e-44a2-9301-0349f65bfb16"
      },
      "execution_count": null,
      "outputs": [
        {
          "output_type": "execute_result",
          "data": {
            "text/plain": [
              "'Donny Tambunan'"
            ],
            "application/vnd.google.colaboratory.intrinsic+json": {
              "type": "string"
            }
          },
          "metadata": {},
          "execution_count": 10
        }
      ]
    },
    {
      "cell_type": "code",
      "source": [
        "Data_Mahasiswa[\"Angkatan\"]"
      ],
      "metadata": {
        "colab": {
          "base_uri": "https://localhost:8080/"
        },
        "id": "KR0vnFUfD-5t",
        "outputId": "718ff153-9457-4bf2-c35d-8da1d361118d"
      },
      "execution_count": null,
      "outputs": [
        {
          "output_type": "execute_result",
          "data": {
            "text/plain": [
              "2019"
            ]
          },
          "metadata": {},
          "execution_count": 11
        }
      ]
    },
    {
      "cell_type": "code",
      "source": [
        "Data_Mahasiswa[\"IPK\"]"
      ],
      "metadata": {
        "colab": {
          "base_uri": "https://localhost:8080/"
        },
        "id": "ZTC2Z7uUD_Ea",
        "outputId": "0b43aa2f-1390-468f-9250-5def3810d794"
      },
      "execution_count": null,
      "outputs": [
        {
          "output_type": "execute_result",
          "data": {
            "text/plain": [
              "3.51"
            ]
          },
          "metadata": {},
          "execution_count": 12
        }
      ]
    }
  ]
}